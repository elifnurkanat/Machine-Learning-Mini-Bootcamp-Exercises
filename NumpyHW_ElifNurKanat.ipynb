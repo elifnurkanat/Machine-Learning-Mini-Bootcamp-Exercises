{
  "nbformat": 4,
  "nbformat_minor": 0,
  "metadata": {
    "colab": {
      "provenance": []
    },
    "kernelspec": {
      "name": "python3",
      "display_name": "Python 3"
    },
    "language_info": {
      "name": "python"
    }
  },
  "cells": [
    {
      "cell_type": "code",
      "source": [
        "import numpy as np"
      ],
      "metadata": {
        "id": "lWCyd9G-Lj3R"
      },
      "execution_count": null,
      "outputs": []
    },
    {
      "cell_type": "code",
      "execution_count": null,
      "metadata": {
        "id": "bWtl1DGcLZcZ",
        "colab": {
          "base_uri": "https://localhost:8080/"
        },
        "outputId": "263859a2-a6b4-482d-bde5-9b6ba9be8678"
      },
      "outputs": [
        {
          "output_type": "execute_result",
          "data": {
            "text/plain": [
              "array([ 1,  2,  3,  4,  5,  6,  7,  8,  9, 10])"
            ]
          },
          "metadata": {},
          "execution_count": 87
        }
      ],
      "source": [
        "# 1. 1'den 10'a kadar bir Numpy dizisi oluşturun\n",
        "\n",
        "a = np.array([1, 2, 3, 4, 5, 6, 7, 8, 9, 10])\n",
        "\n",
        "a"
      ]
    },
    {
      "cell_type": "code",
      "source": [
        "# 2. 2 boyutlu bir Numpy dizisi oluşturun\n",
        "\n",
        "a = np.array([[1, 2],\n",
        "             [3,4]])\n",
        "\n",
        "a.ndim"
      ],
      "metadata": {
        "colab": {
          "base_uri": "https://localhost:8080/"
        },
        "id": "AmIddAxfMn-X",
        "outputId": "ef7a2ba0-bc88-4781-db83-6ffbbd2d9300"
      },
      "execution_count": null,
      "outputs": [
        {
          "output_type": "execute_result",
          "data": {
            "text/plain": [
              "2"
            ]
          },
          "metadata": {},
          "execution_count": 86
        }
      ]
    },
    {
      "cell_type": "code",
      "source": [
        "# 3. Boyutları 2x3 olan bir Numpy dizisinin satır sayısını bulun\n",
        "\n",
        "b = np.array([[1, 2, 3],\n",
        "              [4, 5, 6]])\n",
        "\n",
        "b.shape[0]"
      ],
      "metadata": {
        "colab": {
          "base_uri": "https://localhost:8080/"
        },
        "id": "DI08VK-bMoI_",
        "outputId": "c2829118-e263-4eec-f128-9a742645f8b7"
      },
      "execution_count": null,
      "outputs": [
        {
          "output_type": "execute_result",
          "data": {
            "text/plain": [
              "2"
            ]
          },
          "metadata": {},
          "execution_count": 85
        }
      ]
    },
    {
      "cell_type": "code",
      "source": [
        "# 4. Boyutları 2x3 olan bir Numpy dizisinin sütun sayısını bulun\n",
        "\n",
        "b = np.array([[1, 2, 3],\n",
        "              [4, 5, 6]])\n",
        "\n",
        "b.shape[1]"
      ],
      "metadata": {
        "colab": {
          "base_uri": "https://localhost:8080/"
        },
        "id": "mx7OlpV0MoOr",
        "outputId": "361b8452-2aac-4ad0-9772-731a47854bf8"
      },
      "execution_count": null,
      "outputs": [
        {
          "output_type": "execute_result",
          "data": {
            "text/plain": [
              "3"
            ]
          },
          "metadata": {},
          "execution_count": 14
        }
      ]
    },
    {
      "cell_type": "code",
      "source": [
        "# 5. Bir Numpy dizisindeki en büyük değeri bulun\n",
        "\n",
        "b = np.array([1, 2, 3, 4, 5, 6, 7, 8, 9, 10])\n",
        "\n",
        "b.max()"
      ],
      "metadata": {
        "colab": {
          "base_uri": "https://localhost:8080/"
        },
        "id": "2Pz-8hflMoTM",
        "outputId": "5094c831-5278-4c44-e5dc-37848f3512eb"
      },
      "execution_count": null,
      "outputs": [
        {
          "output_type": "execute_result",
          "data": {
            "text/plain": [
              "10"
            ]
          },
          "metadata": {},
          "execution_count": 43
        }
      ]
    },
    {
      "cell_type": "code",
      "source": [
        "# 6. Bir Numpy dizisindeki en küçük değeri bulun\n",
        "\n",
        "b = np.array([1, 2, 3, 4, 5, 6, 7, 8, 9, 10])\n",
        "\n",
        "b.min()"
      ],
      "metadata": {
        "colab": {
          "base_uri": "https://localhost:8080/"
        },
        "id": "xBgAmetoMoWU",
        "outputId": "646fd713-3cd4-46e7-ca64-9deda2e030d9"
      },
      "execution_count": null,
      "outputs": [
        {
          "output_type": "execute_result",
          "data": {
            "text/plain": [
              "1"
            ]
          },
          "metadata": {},
          "execution_count": 42
        }
      ]
    },
    {
      "cell_type": "code",
      "source": [
        "# 7. Bir Numpy dizisindeki ortalamayı bulun\n",
        "\n",
        "b = np.array([1, 2, 3, 4, 5, 6, 7, 8, 9, 10])\n",
        "\n",
        "b.mean()"
      ],
      "metadata": {
        "colab": {
          "base_uri": "https://localhost:8080/"
        },
        "id": "-Ph3pNJlMoZO",
        "outputId": "6c417fd6-3eec-438f-f2c8-84197b8a263e"
      },
      "execution_count": null,
      "outputs": [
        {
          "output_type": "execute_result",
          "data": {
            "text/plain": [
              "5.5"
            ]
          },
          "metadata": {},
          "execution_count": 41
        }
      ]
    },
    {
      "cell_type": "code",
      "source": [
        "# 8. Bir Numpy dizisindeki standart sapmayı bulun\n",
        "\n",
        "b = np.array([1, 2, 3, 4, 5, 6, 7, 8, 9, 10])\n",
        "\n",
        "b.std()"
      ],
      "metadata": {
        "colab": {
          "base_uri": "https://localhost:8080/"
        },
        "id": "ons_FZvQMob5",
        "outputId": "da254179-b7cd-489c-9827-ea813b029ba5"
      },
      "execution_count": null,
      "outputs": [
        {
          "output_type": "execute_result",
          "data": {
            "text/plain": [
              "2.8722813232690143"
            ]
          },
          "metadata": {},
          "execution_count": 40
        }
      ]
    },
    {
      "cell_type": "code",
      "source": [
        "# 9. Bir Numpy dizisinde tekrar eden elemanları bulun\n",
        "\n",
        "b = np.array([1, 2, 3, 4, 3, 6, 7, 8, 6, 10])\n",
        "bUnique = []\n",
        "bRepeat = []\n",
        "for i in b:\n",
        "  if i not in bUnique:\n",
        "    bUnique.append(i)\n",
        "  else: \n",
        "    bRepeat.append(i)\n",
        "\n",
        "bRepeat"
      ],
      "metadata": {
        "colab": {
          "base_uri": "https://localhost:8080/"
        },
        "id": "QzoEXcpzMod0",
        "outputId": "e9af01db-e5a7-4fd8-f260-6b632e3af7b2"
      },
      "execution_count": null,
      "outputs": [
        {
          "output_type": "execute_result",
          "data": {
            "text/plain": [
              "[3, 6]"
            ]
          },
          "metadata": {},
          "execution_count": 84
        }
      ]
    },
    {
      "cell_type": "code",
      "source": [
        "# 10. 2 boyutlu bir Numpy dizisindeki tüm elemanların toplamını bulun\n",
        "\n",
        "a=np.array([[5,3],\n",
        "           [4,6]])\n",
        "a.sum()"
      ],
      "metadata": {
        "colab": {
          "base_uri": "https://localhost:8080/"
        },
        "id": "Iqqlc8gFam24",
        "outputId": "2dfd90e0-1b9a-4e53-ccbe-6ab974eeccbb"
      },
      "execution_count": null,
      "outputs": [
        {
          "output_type": "execute_result",
          "data": {
            "text/plain": [
              "18"
            ]
          },
          "metadata": {},
          "execution_count": 49
        }
      ]
    },
    {
      "cell_type": "code",
      "source": [
        "# 11. 2 boyutlu bir Numpy dizisindeki her bir satırdaki elemanların toplamını bulun\n",
        "\n",
        "a=np.array([[5,3],\n",
        "           [4,6]])\n",
        "\n",
        "a.sum(axis=1)"
      ],
      "metadata": {
        "colab": {
          "base_uri": "https://localhost:8080/"
        },
        "id": "_PC1jcaUam-2",
        "outputId": "2e599956-1fd9-4093-87f9-8cf56039750b"
      },
      "execution_count": null,
      "outputs": [
        {
          "output_type": "execute_result",
          "data": {
            "text/plain": [
              "array([ 8, 10])"
            ]
          },
          "metadata": {},
          "execution_count": 77
        }
      ]
    },
    {
      "cell_type": "code",
      "source": [
        "# 12. 2 boyutlu bir Numpy dizisindeki her bir sütundaki elemanların toplamını bulun\n",
        "\n",
        "b=np.array([[5,3],\n",
        "           [4,6]])\n",
        "\n",
        "b.sum(axis=0)"
      ],
      "metadata": {
        "colab": {
          "base_uri": "https://localhost:8080/"
        },
        "id": "yMcpzTVqanBb",
        "outputId": "e389055d-f329-4322-b0a9-e81af337be40"
      },
      "execution_count": null,
      "outputs": [
        {
          "output_type": "execute_result",
          "data": {
            "text/plain": [
              "array([9, 9])"
            ]
          },
          "metadata": {},
          "execution_count": 78
        }
      ]
    },
    {
      "cell_type": "code",
      "source": [
        "# 13. Numpy dizisi boyutlarını değiştirin\n",
        "\n",
        "b = np.array([1, 2, 3, 4, 5, 6, 7, 8, 9, 10])\n",
        "\n",
        "b.reshape(2,5)"
      ],
      "metadata": {
        "colab": {
          "base_uri": "https://localhost:8080/"
        },
        "id": "2mtJJcgianG3",
        "outputId": "e30adffc-5aa4-415d-8b09-b04ed2188f59"
      },
      "execution_count": null,
      "outputs": [
        {
          "output_type": "execute_result",
          "data": {
            "text/plain": [
              "array([[ 1,  2,  3,  4,  5],\n",
              "       [ 6,  7,  8,  9, 10]])"
            ]
          },
          "metadata": {},
          "execution_count": 83
        }
      ]
    },
    {
      "cell_type": "code",
      "source": [
        "# 14. Numpy dizisindeki elemanların transpozunu alın\n",
        "\n",
        "a=np.array([[5,3],\n",
        "           [4,6]])\n",
        "\n",
        "a.T"
      ],
      "metadata": {
        "colab": {
          "base_uri": "https://localhost:8080/"
        },
        "id": "H8DkXnXWgfzi",
        "outputId": "04bc4b9c-4abb-4b36-8f95-d560209d6b4f"
      },
      "execution_count": null,
      "outputs": [
        {
          "output_type": "execute_result",
          "data": {
            "text/plain": [
              "array([[5, 4],\n",
              "       [3, 6]])"
            ]
          },
          "metadata": {},
          "execution_count": 82
        }
      ]
    },
    {
      "cell_type": "code",
      "source": [
        "# 15. Numpy dizisindeki elemanların sıralamasını yapın\n",
        "\n",
        "b = np.array([3, 6, 1, 7, 5, 2, 4, 10, 9, 8])\n",
        "b.sort()\n",
        "b"
      ],
      "metadata": {
        "colab": {
          "base_uri": "https://localhost:8080/"
        },
        "id": "nL8HyFNcgf-Z",
        "outputId": "59a5ea22-1671-46b8-a25d-370eeac0ae2e"
      },
      "execution_count": null,
      "outputs": [
        {
          "output_type": "execute_result",
          "data": {
            "text/plain": [
              "array([ 1,  2,  3,  4,  5,  6,  7,  8,  9, 10])"
            ]
          },
          "metadata": {},
          "execution_count": 81
        }
      ]
    },
    {
      "cell_type": "code",
      "source": [
        "# 16. 2 boyutlu bir Numpy dizisindeki her bir sütundaki elemanların ortalamasını bulun\n",
        "\n",
        "a=np.array([[5,3],\n",
        "           [4,6]])\n",
        "\n",
        "a.mean(axis=0)"
      ],
      "metadata": {
        "colab": {
          "base_uri": "https://localhost:8080/"
        },
        "id": "gm8ZGWn_gxGj",
        "outputId": "5236b036-7cfd-4751-9cb8-3865b72f75ca"
      },
      "execution_count": null,
      "outputs": [
        {
          "output_type": "execute_result",
          "data": {
            "text/plain": [
              "array([4.5, 4.5])"
            ]
          },
          "metadata": {},
          "execution_count": 66
        }
      ]
    },
    {
      "cell_type": "code",
      "source": [
        "# 17. 2 boyutlu bir Numpy dizisindeki her bir satırdaki elemanların standart sapmasını bulun\n",
        "\n",
        "a=np.array([[15,3],\n",
        "           [9,6]])\n",
        "\n",
        "a.std(axis=1)"
      ],
      "metadata": {
        "colab": {
          "base_uri": "https://localhost:8080/"
        },
        "id": "UEpOkZBHgxJr",
        "outputId": "d56efbaf-9a0e-4d72-ab64-e680f5d3353d"
      },
      "execution_count": null,
      "outputs": [
        {
          "output_type": "execute_result",
          "data": {
            "text/plain": [
              "array([6. , 1.5])"
            ]
          },
          "metadata": {},
          "execution_count": 69
        }
      ]
    },
    {
      "cell_type": "code",
      "source": [
        "# 18. 2 boyutlu bir Numpy dizisinde belirli bir elemanın index değerini bulun\n",
        "\n",
        "a=np.array([[5,3],\n",
        "           [4,6]])\n",
        "\n"
      ],
      "metadata": {
        "id": "utU-3ApHgxMN"
      },
      "execution_count": null,
      "outputs": []
    },
    {
      "cell_type": "code",
      "source": [
        "# 19. 2 boyutlu bir Numpy dizisinde belirli bir sütunu seçin\n",
        "\n",
        "a=np.array([[5,3],\n",
        "           [4,6]])\n",
        "\n",
        "a[:,0]"
      ],
      "metadata": {
        "colab": {
          "base_uri": "https://localhost:8080/"
        },
        "id": "fm9ul3cTg8Er",
        "outputId": "c1a01a70-7c96-4153-a984-d6bca3734b98"
      },
      "execution_count": null,
      "outputs": [
        {
          "output_type": "execute_result",
          "data": {
            "text/plain": [
              "array([5, 4])"
            ]
          },
          "metadata": {},
          "execution_count": 79
        }
      ]
    },
    {
      "cell_type": "code",
      "source": [
        "# 20. 2 boyutlu bir Numpy dizisinde belirli bir satırı seçin\n",
        "\n",
        "a=np.array([[5,3],\n",
        "           [4,6]])\n",
        "\n",
        "a[0,]"
      ],
      "metadata": {
        "colab": {
          "base_uri": "https://localhost:8080/"
        },
        "id": "j0kNRtI0g8IW",
        "outputId": "b39743e8-e0d2-483a-dbdd-128387ee3dd4"
      },
      "execution_count": null,
      "outputs": [
        {
          "output_type": "execute_result",
          "data": {
            "text/plain": [
              "array([5, 3])"
            ]
          },
          "metadata": {},
          "execution_count": 80
        }
      ]
    }
  ]
}